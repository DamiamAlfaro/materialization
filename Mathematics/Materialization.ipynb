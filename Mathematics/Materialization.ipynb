{
  "nbformat": 4,
  "nbformat_minor": 0,
  "metadata": {
    "colab": {
      "provenance": [],
      "authorship_tag": "ABX9TyOh0+dyVSZjip9r2sjZF7Cs",
      "include_colab_link": true
    },
    "kernelspec": {
      "name": "python3",
      "display_name": "Python 3"
    },
    "language_info": {
      "name": "python"
    }
  },
  "cells": [
    {
      "cell_type": "markdown",
      "metadata": {
        "id": "view-in-github",
        "colab_type": "text"
      },
      "source": [
        "<a href=\"https://colab.research.google.com/github/DamiamAlfaro/materialization/blob/main/Mathematics/Materialization.ipynb\" target=\"_parent\"><img src=\"https://colab.research.google.com/assets/colab-badge.svg\" alt=\"Open In Colab\"/></a>"
      ]
    },
    {
      "cell_type": "code",
      "execution_count": 85,
      "metadata": {
        "id": "98r7TU33FVRP"
      },
      "outputs": [],
      "source": [
        "import math\n",
        "import pandas as pd"
      ]
    },
    {
      "cell_type": "code",
      "source": [
        "def beginning():\n",
        "  print(\"MATHEMATICS | PROGRAMMING | PROFESSION | FINANCE\")\n",
        "\n",
        "  sidesofsquare = {\"MATHEMATICS\":mathematics}\n",
        "\n",
        "  choice = input(\"Side: \").upper()\n",
        "\n",
        "  if choice in sidesofsquare:\n",
        "    sidesofsquare[choice](choice)\n",
        "  else:\n",
        "    print(\"Are you cognitively impaired...\")"
      ],
      "metadata": {
        "id": "P50Iae-SMgz-"
      },
      "execution_count": 77,
      "outputs": []
    },
    {
      "cell_type": "code",
      "source": [
        "class mathematics():\n",
        "  def __init__(self,choice):\n",
        "    print(\"\\nOUTSET | HALT | TEST | MILESTONE\")\n",
        "    mathematicsSides = {\"OUTSET\":mathematics.Outset}\n",
        "    mathematics_choice = input(f\"{choice}-Side: \").upper()\n",
        "\n",
        "    if mathematics_choice in mathematicsSides:\n",
        "      mathematicsSides[mathematics_choice]()\n",
        "    else:\n",
        "      print(\"\\nOh, I see, you are a dumbass...\")\n",
        "\n",
        "  def Outset():\n",
        "    print(\"yessir\")"
      ],
      "metadata": {
        "id": "_ENXtJtHMx1w"
      },
      "execution_count": 82,
      "outputs": []
    },
    {
      "cell_type": "code",
      "source": [
        "beginning()"
      ],
      "metadata": {
        "colab": {
          "base_uri": "https://localhost:8080/"
        },
        "id": "Q1tCwe9iJgKw",
        "outputId": "a15cdf38-1024-4a5f-97dd-ae2ec284e87e"
      },
      "execution_count": 84,
      "outputs": [
        {
          "output_type": "stream",
          "name": "stdout",
          "text": [
            "MATHEMATICS | PROGRAMMING | PROFESSION | FINANCE\n",
            "Side: mathematics\n",
            "\n",
            "OUTSET | HALT | TEST | MILESTONE\n",
            "MATHEMATICS-Side: ha\n",
            "\n",
            "Oh, I see, you are a dumbass...\n"
          ]
        }
      ]
    }
  ]
}