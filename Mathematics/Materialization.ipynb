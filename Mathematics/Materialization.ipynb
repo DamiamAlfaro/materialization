{
  "nbformat": 4,
  "nbformat_minor": 0,
  "metadata": {
    "colab": {
      "provenance": [],
      "authorship_tag": "ABX9TyOKY9sozIOAxD6UUFLwa6eA",
      "include_colab_link": true
    },
    "kernelspec": {
      "name": "python3",
      "display_name": "Python 3"
    },
    "language_info": {
      "name": "python"
    }
  },
  "cells": [
    {
      "cell_type": "markdown",
      "metadata": {
        "id": "view-in-github",
        "colab_type": "text"
      },
      "source": [
        "<a href=\"https://colab.research.google.com/github/DamiamAlfaro/materialization/blob/main/Mathematics/Materialization.ipynb\" target=\"_parent\"><img src=\"https://colab.research.google.com/assets/colab-badge.svg\" alt=\"Open In Colab\"/></a>"
      ]
    },
    {
      "cell_type": "code",
      "execution_count": null,
      "metadata": {
        "id": "98r7TU33FVRP"
      },
      "outputs": [],
      "source": [
        "import pandas as pd\n",
        "import os\n",
        "from datetime import datetime\n",
        "from google.colab import files\n",
        "from openpyxl import load_workbook\n",
        "\n",
        "#files.upload()"
      ]
    },
    {
      "cell_type": "code",
      "source": [
        "def beginning(math,programming,profession,finance):\n",
        "  print(\"MATHEMATICS | PROGRAMMING | PROFESSION | FINANCE\")\n",
        "\n",
        "  files = [math,programming,profession,finance]\n",
        "\n",
        "  sidesofsquare = {\"MATHEMATICS\":mathematics,\n",
        "                   \"PROGRAMMING\":programming,\n",
        "                   \"PROFESSION\":profession,\n",
        "                   \"FINANCE\":finance}\n",
        "\n",
        "  choice = input(\"Side: \").upper()\n",
        "\n",
        "  keys_list = list(sidesofsquare.keys()).index(choice)\n",
        "\n",
        "  if choice in sidesofsquare:\n",
        "    sidesofsquare[choice](choice,files[keys_list])\n",
        "  else:\n",
        "    print(\"Are you cognitively impaired...\")"
      ],
      "metadata": {
        "id": "P50Iae-SMgz-"
      },
      "execution_count": null,
      "outputs": []
    },
    {
      "cell_type": "code",
      "source": [
        "class mathematics():\n",
        "  def __init__(self,choice,file):\n",
        "\n",
        "    self.choice = choice\n",
        "    self.file = file\n",
        "\n",
        "    print(\"\\nOUTSET | HALT | VIEW | MILESTONE | TESTING\")\n",
        "\n",
        "    mathematicsSides = {\"OUTSET\":self.Outset,\n",
        "                        \"HALT\":self.Halt}\n",
        "\n",
        "    mathematics_choice = input(f\"{choice}-Side: \").upper()\n",
        "\n",
        "    if mathematics_choice in mathematicsSides:\n",
        "      mathematicsSides[mathematics_choice]()\n",
        "    else:\n",
        "      print(\"\\nOh, I see, you are a dumbass...\")\n",
        "\n",
        "  def writing(self,action):\n",
        "    # Importing & Converting Excel File\n",
        "    excel_file = self.file\n",
        "    writer = pd.ExcelWriter(excel_file,engine = 'openpyxl')\n",
        "    book = writer.book\n",
        "\n",
        "    # Getting instance of point of time\n",
        "    now = datetime.now()\n",
        "    year = now.year\n",
        "    month = now.month\n",
        "    day = now.day\n",
        "    hour = now.hour\n",
        "    minute = now.minute\n",
        "    new_row = {'Year': year,\n",
        "               'Month': month,\n",
        "               'Day': day,\n",
        "               'Hour': hour,\n",
        "               'Minute': minute}\n",
        "\n",
        "    if action == \"OUTSET\":\n",
        "      sheet_name = \"Outsets\"\n",
        "    elif action == \"HALT\":\n",
        "      sheet_name = \"Halts\"\n",
        "    else:\n",
        "      raise ValueError(\"\\nDon't you know how to read the room?...\\n\")\n",
        "\n",
        "\n",
        "\n",
        "    print(\"working\")\n",
        "    return excel_file\n",
        "\n",
        "  def Outset(self):\n",
        "    step = \"OUTSET\"\n",
        "    mathematics.writing(self,step)\n",
        "\n",
        "  def Halt():\n",
        "    step = \"HALT\"\n",
        "    pass\n",
        "\n",
        "  def View():\n",
        "    pass\n",
        "\n",
        "  def Milestone():\n",
        "    pass\n",
        "\n",
        "  def Test():\n",
        "    pass"
      ],
      "metadata": {
        "id": "_ENXtJtHMx1w"
      },
      "execution_count": null,
      "outputs": []
    },
    {
      "cell_type": "code",
      "source": [
        "class programming():\n",
        "  def __init__(self,choice):\n",
        "    print(\"\\nOUTSET | HALT | VIEW | MILESTONE\")\n",
        "    programmingSides = {\"OUTSET\":programming.Outset}\n",
        "\n",
        "  def Outset():\n",
        "    pass"
      ],
      "metadata": {
        "id": "4G9uVKBbcskX"
      },
      "execution_count": null,
      "outputs": []
    },
    {
      "cell_type": "code",
      "source": [
        "class profession():\n",
        "  def __init__(self,choice):\n",
        "    print(\"\\nOUTSET | HALT | VIEW | MILESTONE\")\n",
        "    professionSides = {\"OUTSET\":programming.Outset}\n",
        "\n",
        "  def Outset():\n",
        "    pass"
      ],
      "metadata": {
        "id": "lEQSoIWUnLer"
      },
      "execution_count": null,
      "outputs": []
    },
    {
      "cell_type": "code",
      "source": [
        "class finance():\n",
        "  def __init__(self,choice):\n",
        "    print(\"\\nOUTSET | HALT | VIEW | MILESTONE\")\n",
        "    financeSides = {\"OUTSET\":programming.Outset}\n",
        "\n",
        "  def Outset():\n",
        "    pass"
      ],
      "metadata": {
        "id": "VhfMfXRLnPur"
      },
      "execution_count": null,
      "outputs": []
    },
    {
      "cell_type": "code",
      "source": [
        "excel_math = \"MaterializationMath.xlsx\"\n",
        "excel_programming = \"MaterializationProgramming.xlsx\"\n",
        "excel_profession = \"MaterializationProfession.xlsx\"\n",
        "excel_finance = \"MaterializationFinance.xlsx\"\n",
        "\n",
        "beginning(excel_math,excel_programming,excel_profession,excel_finance)"
      ],
      "metadata": {
        "colab": {
          "base_uri": "https://localhost:8080/"
        },
        "id": "Q1tCwe9iJgKw",
        "outputId": "14b37fde-a3e4-4809-a208-5aa35462f89d"
      },
      "execution_count": null,
      "outputs": [
        {
          "output_type": "stream",
          "name": "stdout",
          "text": [
            "MATHEMATICS | PROGRAMMING | PROFESSION | FINANCE\n",
            "Side: mathematics\n",
            "MaterializationMath.xlsx\n",
            "\n",
            "OUTSET | HALT | VIEW | MILESTONE | TESTING\n",
            "MATHEMATICS-Side: s\n",
            "\n",
            "Oh, I see, you are a dumbass...\n"
          ]
        }
      ]
    }
  ]
}